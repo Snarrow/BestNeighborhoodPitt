{
 "cells": [
  {
   "cell_type": "code",
   "execution_count": 1,
   "id": "b23c501f-0340-47f3-9d89-001b1ed0a568",
   "metadata": {},
   "outputs": [],
   "source": [
    "#import libraries\n",
    "import pandas as pd\n",
    "import numpy as np\n",
    "%matplotlib inline\n",
    "import matplotlib.pyplot as plt"
   ]
  },
  {
   "cell_type": "markdown",
   "id": "20cb1c54-908c-4220-9abb-9d2e85a98025",
   "metadata": {},
   "source": [
    "# Final Presentation\n",
    "\n",
    "## Introduction\n",
    "For our project, we define \"bestness\" as safety. Thus, the safest neighborhood will be considered the best, while the most dangerous neighborhood to live in would be considered the worst. \n",
    "\n",
    "\n",
    "## Metric\n",
    "There will exist $3$ submetrics within this project. Each submetric will produce a \"ranking\" of neighborhoods, as stored as a Series. Afterwards, the \n",
    "\n"
   ]
  },
  {
   "cell_type": "markdown",
   "id": "0a3ea02b-7ea8-4490-9aa4-b83a8fab3b83",
   "metadata": {},
   "source": [
    "### Submetric 1: Police Incidents\n",
    "Police Incidents will be the first sub-metric. We shall be using this dataset: https://data.wprdc.org/dataset/police-incident-blotter.\n",
    "Each neighborhood will be assigned a \"Bad Value,\" as determined by the following arbitrary equation: \n",
    "\n",
    "$N = z + \\sum_{i_0}^{i_k}v_i$\n",
    "\n",
    "Where $i$ is the $i$th incident of the neighborhood within the dataset, with $i_0$ being the first in the dataset and $i_k$ being the last,\n",
    "where $v_i$ is the \"bad\" value of the $i$th incident(as determined by another ranking, based on the INCIDENTHIERARCHYDESC column, an **opinionated ranking**),\n",
    "and where $z$ is the amount of incidents in that neighborhood.\n",
    "\n",
    "Each neighborhood will be ranked, with the neighborhood with the lowest $N$ value being the best, while the neighborhood with the highest $N$ value being the worst.\n"
   ]
  },
  {
   "cell_type": "code",
   "execution_count": null,
   "id": "f156709b-f80a-4b98-a691-85d1c4b6b765",
   "metadata": {},
   "outputs": [],
   "source": [
    "#Code, work, and more Markdown Above Submetric 2"
   ]
  },
  {
   "cell_type": "markdown",
   "id": "cb330806-3f72-4be0-9097-4e6856720314",
   "metadata": {},
   "source": [
    "### Submetric 2: Firearm Seizures"
   ]
  },
  {
   "cell_type": "code",
   "execution_count": null,
   "id": "b4713900-976f-47d5-8887-4adc3d6f0794",
   "metadata": {},
   "outputs": [],
   "source": [
    "#Code, work, and more Markdown Above Submetric 3"
   ]
  },
  {
   "cell_type": "markdown",
   "id": "78203598-a4af-494d-bd0f-8293af6780f8",
   "metadata": {},
   "source": [
    "### Submetric 3: Police Arrests"
   ]
  },
  {
   "cell_type": "code",
   "execution_count": null,
   "id": "29d056d2-1556-4b97-94e1-901fe12344fc",
   "metadata": {},
   "outputs": [],
   "source": [
    "#Code, work, and more Markdown"
   ]
  },
  {
   "cell_type": "markdown",
   "id": "40a72c86-1892-458e-92d8-17c1e4f47af4",
   "metadata": {},
   "source": [
    "## Conclusion\n",
    "\n",
    "### Yanjia: Police Reported Incidents\n",
    "\n",
    "\n",
    "### Parth:\n",
    "\n",
    "\n",
    "### Adeel:\n",
    "\n",
    "\n",
    "It has thus been decided that **XXXXXX** is the best neighborhood in Pittsburgh."
   ]
  },
  {
   "cell_type": "code",
   "execution_count": null,
   "id": "6c4a4aef-7c67-48c1-a057-088f5b8ebec9",
   "metadata": {},
   "outputs": [],
   "source": []
  }
 ],
 "metadata": {
  "kernelspec": {
   "display_name": "Python 3 (ipykernel)",
   "language": "python",
   "name": "python3"
  },
  "language_info": {
   "codemirror_mode": {
    "name": "ipython",
    "version": 3
   },
   "file_extension": ".py",
   "mimetype": "text/x-python",
   "name": "python",
   "nbconvert_exporter": "python",
   "pygments_lexer": "ipython3",
   "version": "3.11.2"
  }
 },
 "nbformat": 4,
 "nbformat_minor": 5
}
